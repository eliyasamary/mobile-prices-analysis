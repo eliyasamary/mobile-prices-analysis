{
  "nbformat": 4,
  "nbformat_minor": 0,
  "metadata": {
    "colab": {
      "provenance": [],
      "authorship_tag": "ABX9TyPS9Aa8whdSho+cCWpsysvf",
      "include_colab_link": true
    },
    "kernelspec": {
      "name": "python3",
      "display_name": "Python 3"
    },
    "language_info": {
      "name": "python"
    }
  },
  "cells": [
    {
      "cell_type": "markdown",
      "metadata": {
        "id": "view-in-github",
        "colab_type": "text"
      },
      "source": [
        "<a href=\"https://colab.research.google.com/github/eliyasamary/mobile-prices-analysis/blob/main/Untitled0.ipynb\" target=\"_parent\"><img src=\"https://colab.research.google.com/assets/colab-badge.svg\" alt=\"Open In Colab\"/></a>"
      ]
    },
    {
      "cell_type": "code",
      "source": [
        "import pandas as pd\n",
        "import numpy as np"
      ],
      "metadata": {
        "id": "UoneOH-SMpK6"
      },
      "execution_count": 2,
      "outputs": []
    },
    {
      "cell_type": "markdown",
      "source": [
        "Task 1"
      ],
      "metadata": {
        "id": "Z0xX46fsM4L2"
      }
    },
    {
      "cell_type": "markdown",
      "source": [
        "1. Load the data into a Pandas Dataframe.\n"
      ],
      "metadata": {
        "id": "U1FfGwyeM9Zc"
      }
    },
    {
      "cell_type": "code",
      "source": [
        "df = pd.read_csv(\"mobile_price_1.csv\")"
      ],
      "metadata": {
        "id": "2coolps6M6c7"
      },
      "execution_count": 4,
      "outputs": []
    },
    {
      "cell_type": "markdown",
      "source": [
        "2. Which of the categorical features are nominal and which are ordinal?\n",
        "\n",
        "Nominal: bluetooth, gen, sim, screen, wifi\n",
        "\n",
        "Ordinal: cores, speed"
      ],
      "metadata": {
        "id": "EXK7A2XaNCSN"
      }
    },
    {
      "cell_type": "markdown",
      "source": [
        "3. Add a column that holds the total screen resolution for each device. Name it resolution."
      ],
      "metadata": {
        "id": "7QCWahmDNP4B"
      }
    },
    {
      "cell_type": "code",
      "source": [
        "df['resolution'] = df['px_height'] * df['px_width']"
      ],
      "metadata": {
        "id": "o2wX0vEeNU2y"
      },
      "execution_count": 5,
      "outputs": []
    },
    {
      "cell_type": "markdown",
      "source": [
        "4. Add a column that holds the DPI (dots per inch) of the screen width and name it DPI_w."
      ],
      "metadata": {
        "id": "f7vpPnvANW9b"
      }
    },
    {
      "cell_type": "code",
      "source": [
        "df['DPI_w'] = df['px_width'] / (df['sc_w'] * 0.393701)"
      ],
      "metadata": {
        "id": "UVzjeQdfNZsr"
      },
      "execution_count": 6,
      "outputs": []
    },
    {
      "cell_type": "markdown",
      "source": [
        "5. Add a column that holds the ratio battery_power/talk_time and name it call_ratio."
      ],
      "metadata": {
        "id": "UT-eDmfxNhdE"
      }
    },
    {
      "cell_type": "code",
      "source": [
        "df['call_ratio'] = df['battery_power'] / df['talk_time']"
      ],
      "metadata": {
        "id": "4Stred3SNm43"
      },
      "execution_count": 7,
      "outputs": []
    },
    {
      "cell_type": "markdown",
      "source": [
        "6. Change the memory column to hold the memory in GB instead of MB."
      ],
      "metadata": {
        "id": "2EwOGJY2Npa-"
      }
    },
    {
      "cell_type": "code",
      "source": [
        "df['memory'] = df['memory'] / 1000"
      ],
      "metadata": {
        "id": "AvDhhvlgNyUg"
      },
      "execution_count": 8,
      "outputs": []
    },
    {
      "cell_type": "markdown",
      "source": [
        "7. Include the output of the `describe()` function of the dataframe."
      ],
      "metadata": {
        "id": "Wg6dYr4INwBH"
      }
    },
    {
      "cell_type": "code",
      "source": [
        "print(df.describe())"
      ],
      "metadata": {
        "colab": {
          "base_uri": "https://localhost:8080/"
        },
        "id": "1B-TSKtGNy71",
        "outputId": "73c154db-e4fb-4c23-e51f-cdc744e61d76"
      },
      "execution_count": 9,
      "outputs": [
        {
          "output_type": "stream",
          "name": "stdout",
          "text": [
            "                id  battery_power        m_dep    mobile_wt    px_height  \\\n",
            "count  2000.000000    2000.000000  2000.000000  2000.000000  2000.000000   \n",
            "mean    999.500000    1238.518500     0.501750   140.249000   645.108000   \n",
            "std     577.494589     439.418206     0.288416    35.399655   443.780811   \n",
            "min       0.000000     501.000000     0.100000    80.000000     0.000000   \n",
            "25%     499.750000     851.750000     0.200000   109.000000   282.750000   \n",
            "50%     999.500000    1226.000000     0.500000   141.000000   564.000000   \n",
            "75%    1499.250000    1615.250000     0.800000   170.000000   947.250000   \n",
            "max    1999.000000    1998.000000     1.000000   200.000000  1960.000000   \n",
            "\n",
            "          px_width          ram         sc_h         sc_w    talk_time  \\\n",
            "count  2000.000000  2000.000000  2000.000000  2000.000000  2000.000000   \n",
            "mean   1251.515500  2124.213000    12.306500     5.767000    11.011000   \n",
            "std     432.199447  1084.732044     4.213245     4.356398     5.463955   \n",
            "min     500.000000   256.000000     5.000000     0.000000     2.000000   \n",
            "25%     874.750000  1207.500000     9.000000     2.000000     6.000000   \n",
            "50%    1247.000000  2146.500000    12.000000     5.000000    11.000000   \n",
            "75%    1633.000000  3064.500000    16.000000     9.000000    16.000000   \n",
            "max    1998.000000  3998.000000    19.000000    18.000000    20.000000   \n",
            "\n",
            "               gen     f_camera       camera       memory       price  \\\n",
            "count  2000.000000  1526.000000  1899.000000  2000.000000  2000.00000   \n",
            "mean      3.283000     5.648100    10.443918    32.546259   862.02435   \n",
            "std       0.824773     4.140169     5.763826    18.161462   230.26348   \n",
            "min       2.000000     1.000000     1.000000     1.954000   307.11000   \n",
            "25%       3.000000     2.000000     6.000000    16.421000   698.46750   \n",
            "50%       4.000000     5.000000    10.000000    32.303000   837.63000   \n",
            "75%       4.000000     8.000000    15.000000    48.340250  1006.71250   \n",
            "max       4.000000    19.000000    20.000000    64.922000  1728.97000   \n",
            "\n",
            "         resolution        DPI_w   call_ratio  \n",
            "count  2.000000e+03  2000.000000  2000.000000  \n",
            "mean   9.052601e+05          inf   166.672629  \n",
            "std    8.297625e+05          NaN   156.664965  \n",
            "min    0.000000e+00    81.279956    25.100000  \n",
            "25%    2.632005e+05   339.634102    75.737500  \n",
            "50%    6.013590e+05   599.185676   111.369318  \n",
            "75%    1.359027e+06  1524.210844   186.193750  \n",
            "max    3.886306e+06          inf   989.500000  \n"
          ]
        }
      ]
    },
    {
      "cell_type": "markdown",
      "source": [
        "8. Convert the following features into categorical series in the Dataframe: speed,screen,cores."
      ],
      "metadata": {
        "id": "GGAz74VMNzPG"
      }
    },
    {
      "cell_type": "code",
      "source": [
        "df['speed'] = df['speed'].astype('category')\n",
        "df['screen'] = df['screen'].astype('category')\n",
        "df['cores'] = df['cores'].astype('category')"
      ],
      "metadata": {
        "id": "JJMeY6szN7Gg"
      },
      "execution_count": 10,
      "outputs": []
    },
    {
      "cell_type": "markdown",
      "source": [
        "Task 2"
      ],
      "metadata": {
        "id": "TG-ZxekuN-mc"
      }
    },
    {
      "cell_type": "markdown",
      "source": [
        "1. How many phones do not have a camera at all (front or back)?"
      ],
      "metadata": {
        "id": "AR8z1yaIOBeE"
      }
    },
    {
      "cell_type": "code",
      "source": [
        "phones_with_no_camera = df[(df['f_camera'].isnull()) & (df['camera'].isnull())]\n",
        "print(\"Number of phones without a camera:\", len(phones_with_no_camera))"
      ],
      "metadata": {
        "colab": {
          "base_uri": "https://localhost:8080/"
        },
        "id": "uNF-nfLiOATV",
        "outputId": "2ba486d0-bea8-4ac5-fd33-d3f68172005d"
      },
      "execution_count": 11,
      "outputs": [
        {
          "output_type": "stream",
          "name": "stdout",
          "text": [
            "Number of phones without a camera: 101\n"
          ]
        }
      ]
    },
    {
      "cell_type": "markdown",
      "source": [
        "2. What is the average battery power for single-sim phones that have a camera or front camera\n",
        "with a higher resolution than 12 megapixels?"
      ],
      "metadata": {
        "id": "ZNUgwlfQOIW9"
      }
    },
    {
      "cell_type": "code",
      "source": [
        "single_sim_with_cameras = df[(df['sim'] == 'Single') & ((df['camera'] > 12) | (df['f_camera'] > 12))]\n",
        "average_battery_power = single_sim_with_cameras['battery_power'].mean()\n",
        "print(\"Average battery power for single-sim phones with high-resolution camera:\", average_battery_power)"
      ],
      "metadata": {
        "colab": {
          "base_uri": "https://localhost:8080/"
        },
        "id": "xDjoZixVOK2G",
        "outputId": "a2515444-7dd5-4e25-d310-bb981dd78ae5"
      },
      "execution_count": 12,
      "outputs": [
        {
          "output_type": "stream",
          "name": "stdout",
          "text": [
            "Average battery power for single-sim phones with high-resolution camera: 1266.741935483871\n"
          ]
        }
      ]
    },
    {
      "cell_type": "markdown",
      "source": [
        "3. What is the ID and price of the most expensive phone that has no wifi, a touch screen and weighs more than 145 grams?"
      ],
      "metadata": {
        "id": "yGpqWj5OOI0J"
      }
    },
    {
      "cell_type": "code",
      "source": [
        "expensive_phone = df[(df['wifi'] == 'none') & (df['screen'] == 'Touch') & (df['mobile_wt'] > 145)].nlargest(1, 'price').reset_index(drop=True)\n",
        "print(\"ID and price of the most expensive phone meeting the criteria:\")\n",
        "print(expensive_phone[['id', 'price']].to_string(index=False))"
      ],
      "metadata": {
        "colab": {
          "base_uri": "https://localhost:8080/"
        },
        "id": "sqJCn2TCOLVF",
        "outputId": "07740162-83c1-4985-d524-f1307fdb0a93"
      },
      "execution_count": 19,
      "outputs": [
        {
          "output_type": "stream",
          "name": "stdout",
          "text": [
            "ID and price of the most expensive phone meeting the criteria:\n",
            " id   price\n",
            "770 1533.85\n"
          ]
        }
      ]
    },
    {
      "cell_type": "markdown",
      "source": [
        "4. Create a pivot table that shows the percentage of phones with Bluetooth per generation, pivoted around the phone generation and split by “ram” quartiles. (i.e. the rows are the generation number and the columns are 4 quartiles of ram size)."
      ],
      "metadata": {
        "id": "xi9usneZOJnb"
      }
    },
    {
      "cell_type": "code",
      "source": [
        "ram_quartiles = pd.qcut(df['ram'], q=4)\n",
        "df['ram_quartiles'] = ram_quartiles\n",
        "pivot_table = pd.pivot_table(df, index='gen', columns='ram_quartiles', values='bluetooth', aggfunc=lambda x: (x == 'Yes').sum() / len(x) * 100)\n",
        "print(\"Pivot table:\")\n",
        "print(pivot_table)"
      ],
      "metadata": {
        "colab": {
          "base_uri": "https://localhost:8080/"
        },
        "id": "kP0kCZ-POL0E",
        "outputId": "db82b47e-8148-4a77-ba20-2819717da212"
      },
      "execution_count": 23,
      "outputs": [
        {
          "output_type": "stream",
          "name": "stdout",
          "text": [
            "Pivot table:\n",
            "ram_quartiles  (255.999, 1207.5]  (1207.5, 2146.5]  (2146.5, 3064.5]  \\\n",
            "gen                                                                    \n",
            "2                      49.606299         52.991453         51.260504   \n",
            "3                      46.956522         50.000000         40.909091   \n",
            "4                      47.674419         48.679245         50.200803   \n",
            "\n",
            "ram_quartiles  (3064.5, 3998.0]  \n",
            "gen                              \n",
            "2                     55.263158  \n",
            "3                     44.347826  \n",
            "4                     53.874539  \n"
          ]
        }
      ]
    },
    {
      "cell_type": "markdown",
      "source": [
        "5. Create a new Dataframe based on the original that has the following features: [id, battery_power, ram, talk_time, Bluetooth, cores, sim, memory, price], and contains a random sampling of half of the medium speed phones."
      ],
      "metadata": {
        "id": "iIVRBa-IOKNN"
      }
    },
    {
      "cell_type": "code",
      "source": [
        "medium_speed_phones = df[df['speed'] == 'medium']\n",
        "sampled_medium_speed_phones = medium_speed_phones.sample(frac=0.5, random_state=42)\n",
        "new_df = sampled_medium_speed_phones[['id', 'battery_power', 'ram', 'talk_time', 'bluetooth', 'cores', 'sim', 'memory', 'price']]"
      ],
      "metadata": {
        "id": "9Si-_0HZOMjN"
      },
      "execution_count": 24,
      "outputs": []
    },
    {
      "cell_type": "markdown",
      "source": [
        "6. Using this new dataset, what is the maximum total talk time you can achieve if you use 3 phones, and which 3 phones will you use?"
      ],
      "metadata": {
        "id": "lnHSHqFPOJMG"
      }
    },
    {
      "cell_type": "code",
      "source": [
        "sorted_new_df = new_df.sort_values(by='talk_time', ascending=False)\n",
        "max_talk_time = sorted_new_df.head(3)['talk_time'].sum()\n",
        "chosen_phones = sorted_new_df.head(3)\n",
        "chosen_phones_ids = chosen_phones['id'].to_string(index=False).strip()\n",
        "print(\"Maximum total talk time achievable with 3 phones:\", max_talk_time)\n",
        "print(\"Chosen phones for maximum talk time (by id):\")\n",
        "print(chosen_phones_ids)"
      ],
      "metadata": {
        "colab": {
          "base_uri": "https://localhost:8080/"
        },
        "id": "UfHcRfgSONbc",
        "outputId": "64287b3e-a96e-468c-89c2-267cf916fe53"
      },
      "execution_count": 31,
      "outputs": [
        {
          "output_type": "stream",
          "name": "stdout",
          "text": [
            "Maximum total talk time achievable with 3 phones: 60\n",
            "Chosen phones for maximum talk time (by id):\n",
            "1621\n",
            " 588\n",
            " 707\n"
          ]
        }
      ]
    }
  ]
}